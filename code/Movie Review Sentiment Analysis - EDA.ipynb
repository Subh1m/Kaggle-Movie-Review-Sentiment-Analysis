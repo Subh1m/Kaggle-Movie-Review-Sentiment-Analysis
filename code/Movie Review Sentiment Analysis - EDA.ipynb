{
 "cells": [
  {
   "cell_type": "code",
   "execution_count": 1,
   "metadata": {},
   "outputs": [],
   "source": [
    "# Keras\n",
    "from keras.models import Sequential\n",
    "from keras.layers import Bidirectional, LSTM, Dense, Embedding, SpatialDropout1D\n",
    "from keras.optimizers import adam\n",
    "from keras.callbacks import EarlyStopping\n",
    "from keras.preprocessing.sequence import pad_sequences\n",
    "from keras.preprocessing.text import Tokenizer\n",
    "from sklearn.preprocessing import LabelEncoder\n",
    "import keras\n",
    "\n",
    "# Regular Expression\n",
    "import re\n",
    "\n",
    "# NLTK\n",
    "from nltk.tokenize import word_tokenize\n",
    "from nltk import FreqDist\n",
    "from nltk.stem import WordNetLemmatizer\n",
    "\n",
    "# EDA\n",
    "from string import punctuation\n",
    "import pandas as pd\n",
    "import numpy as np"
   ]
  },
  {
   "cell_type": "code",
   "execution_count": 62,
   "metadata": {},
   "outputs": [
    {
     "data": {
      "text/html": [
       "<div>\n",
       "<style scoped>\n",
       "    .dataframe tbody tr th:only-of-type {\n",
       "        vertical-align: middle;\n",
       "    }\n",
       "\n",
       "    .dataframe tbody tr th {\n",
       "        vertical-align: top;\n",
       "    }\n",
       "\n",
       "    .dataframe thead th {\n",
       "        text-align: right;\n",
       "    }\n",
       "</style>\n",
       "<table border=\"1\" class=\"dataframe\">\n",
       "  <thead>\n",
       "    <tr style=\"text-align: right;\">\n",
       "      <th></th>\n",
       "      <th>PhraseId</th>\n",
       "      <th>SentenceId</th>\n",
       "      <th>Phrase</th>\n",
       "      <th>Sentiment</th>\n",
       "    </tr>\n",
       "  </thead>\n",
       "  <tbody>\n",
       "    <tr>\n",
       "      <th>0</th>\n",
       "      <td>1</td>\n",
       "      <td>1</td>\n",
       "      <td>A series of escapades demonstrating the adage ...</td>\n",
       "      <td>1</td>\n",
       "    </tr>\n",
       "    <tr>\n",
       "      <th>1</th>\n",
       "      <td>2</td>\n",
       "      <td>1</td>\n",
       "      <td>A series of escapades demonstrating the adage ...</td>\n",
       "      <td>2</td>\n",
       "    </tr>\n",
       "    <tr>\n",
       "      <th>2</th>\n",
       "      <td>3</td>\n",
       "      <td>1</td>\n",
       "      <td>A series</td>\n",
       "      <td>2</td>\n",
       "    </tr>\n",
       "    <tr>\n",
       "      <th>3</th>\n",
       "      <td>4</td>\n",
       "      <td>1</td>\n",
       "      <td>A</td>\n",
       "      <td>2</td>\n",
       "    </tr>\n",
       "    <tr>\n",
       "      <th>4</th>\n",
       "      <td>5</td>\n",
       "      <td>1</td>\n",
       "      <td>series</td>\n",
       "      <td>2</td>\n",
       "    </tr>\n",
       "  </tbody>\n",
       "</table>\n",
       "</div>"
      ],
      "text/plain": [
       "   PhraseId  SentenceId                                             Phrase  \\\n",
       "0         1           1  A series of escapades demonstrating the adage ...   \n",
       "1         2           1  A series of escapades demonstrating the adage ...   \n",
       "2         3           1                                           A series   \n",
       "3         4           1                                                  A   \n",
       "4         5           1                                             series   \n",
       "\n",
       "   Sentiment  \n",
       "0          1  \n",
       "1          2  \n",
       "2          2  \n",
       "3          2  \n",
       "4          2  "
      ]
     },
     "execution_count": 62,
     "metadata": {},
     "output_type": "execute_result"
    }
   ],
   "source": [
    "# Data Load\n",
    "df = pd.read_csv(\"../data/train.tsv\", sep=\"\t\")\n",
    "df.head()"
   ]
  },
  {
   "cell_type": "code",
   "execution_count": 63,
   "metadata": {},
   "outputs": [
    {
     "data": {
      "text/plain": [
       "156060"
      ]
     },
     "execution_count": 63,
     "metadata": {},
     "output_type": "execute_result"
    }
   ],
   "source": [
    "len(df)"
   ]
  },
  {
   "cell_type": "code",
   "execution_count": 64,
   "metadata": {},
   "outputs": [
    {
     "data": {
      "text/plain": [
       "PhraseId      0\n",
       "SentenceId    0\n",
       "Phrase        0\n",
       "Sentiment     0\n",
       "dtype: int64"
      ]
     },
     "execution_count": 64,
     "metadata": {},
     "output_type": "execute_result"
    }
   ],
   "source": [
    "df.isnull().sum()"
   ]
  },
  {
   "cell_type": "code",
   "execution_count": 65,
   "metadata": {},
   "outputs": [
    {
     "data": {
      "text/plain": [
       "2    79582\n",
       "3    32927\n",
       "1    27273\n",
       "4     9206\n",
       "0     7072\n",
       "Name: Sentiment, dtype: int64"
      ]
     },
     "execution_count": 65,
     "metadata": {},
     "output_type": "execute_result"
    }
   ],
   "source": [
    "df['Sentiment'].value_counts()"
   ]
  },
  {
   "cell_type": "code",
   "execution_count": 68,
   "metadata": {},
   "outputs": [],
   "source": [
    "# Preprocessing\n",
    "df['Phrase'] = df['Phrase'].apply(lambda x: x.lower())\n",
    "df['Phrase'] = df['Phrase'].apply((lambda x: re.sub('[^A-z\\s]','',x)))"
   ]
  },
  {
   "cell_type": "code",
   "execution_count": 141,
   "metadata": {},
   "outputs": [],
   "source": [
    "stemmer=SnowballStemmer('english')\n",
    "lemma=WordNetLemmatizer()\n",
    "def clean_text(text):\n",
    "    text_corpus=[]\n",
    "    for i in range(0,len(text)):\n",
    "        review = str(text[i])\n",
    "        review = [lemma.lemmatize(w) for w in word_tokenize(str(review).lower())]\n",
    "        review = ' '.join(review)\n",
    "        text_corpus.append(review)\n",
    "    return text_corpus"
   ]
  },
  {
   "cell_type": "code",
   "execution_count": 113,
   "metadata": {},
   "outputs": [],
   "source": [
    "#df['Phrase'] = df['Phrase'].map(lambda x : x if len(x.split(\" \")) > 1 else None)"
   ]
  },
  {
   "cell_type": "code",
   "execution_count": 142,
   "metadata": {},
   "outputs": [
    {
     "data": {
      "text/html": [
       "<div>\n",
       "<style scoped>\n",
       "    .dataframe tbody tr th:only-of-type {\n",
       "        vertical-align: middle;\n",
       "    }\n",
       "\n",
       "    .dataframe tbody tr th {\n",
       "        vertical-align: top;\n",
       "    }\n",
       "\n",
       "    .dataframe thead th {\n",
       "        text-align: right;\n",
       "    }\n",
       "</style>\n",
       "<table border=\"1\" class=\"dataframe\">\n",
       "  <thead>\n",
       "    <tr style=\"text-align: right;\">\n",
       "      <th></th>\n",
       "      <th>PhraseId</th>\n",
       "      <th>SentenceId</th>\n",
       "      <th>Phrase</th>\n",
       "      <th>Sentiment</th>\n",
       "      <th>clean_review</th>\n",
       "      <th>clean_text</th>\n",
       "    </tr>\n",
       "  </thead>\n",
       "  <tbody>\n",
       "    <tr>\n",
       "      <th>63145</th>\n",
       "      <td>63146</td>\n",
       "      <td>3192</td>\n",
       "      <td>with flashes of warmth and gentle humor</td>\n",
       "      <td>3</td>\n",
       "      <td>with flash of warmth and gentle humor</td>\n",
       "      <td>with flash of warmth and gentle humor</td>\n",
       "    </tr>\n",
       "    <tr>\n",
       "      <th>140829</th>\n",
       "      <td>140830</td>\n",
       "      <td>7639</td>\n",
       "      <td>norton has to recite bland police procedural ...</td>\n",
       "      <td>1</td>\n",
       "      <td>norton ha to recite bland police procedural de...</td>\n",
       "      <td>norton ha to recite bland police procedural de...</td>\n",
       "    </tr>\n",
       "    <tr>\n",
       "      <th>52522</th>\n",
       "      <td>52523</td>\n",
       "      <td>2600</td>\n",
       "      <td>the good is very  very good  the rest runs fro...</td>\n",
       "      <td>2</td>\n",
       "      <td>the good is very very good the rest run from m...</td>\n",
       "      <td>the good is very very good the rest run from m...</td>\n",
       "    </tr>\n",
       "    <tr>\n",
       "      <th>9703</th>\n",
       "      <td>9704</td>\n",
       "      <td>403</td>\n",
       "      <td>a sweet little girl</td>\n",
       "      <td>3</td>\n",
       "      <td>a sweet little girl</td>\n",
       "      <td>a sweet little girl</td>\n",
       "    </tr>\n",
       "    <tr>\n",
       "      <th>61646</th>\n",
       "      <td>61647</td>\n",
       "      <td>3115</td>\n",
       "      <td>melancholia</td>\n",
       "      <td>2</td>\n",
       "      <td>melancholia</td>\n",
       "      <td>melancholia</td>\n",
       "    </tr>\n",
       "  </tbody>\n",
       "</table>\n",
       "</div>"
      ],
      "text/plain": [
       "        PhraseId  SentenceId  \\\n",
       "63145      63146        3192   \n",
       "140829    140830        7639   \n",
       "52522      52523        2600   \n",
       "9703        9704         403   \n",
       "61646      61647        3115   \n",
       "\n",
       "                                                   Phrase  Sentiment  \\\n",
       "63145             with flashes of warmth and gentle humor          3   \n",
       "140829   norton has to recite bland police procedural ...          1   \n",
       "52522   the good is very  very good  the rest runs fro...          2   \n",
       "9703                                  a sweet little girl          3   \n",
       "61646                                         melancholia          2   \n",
       "\n",
       "                                             clean_review  \\\n",
       "63145               with flash of warmth and gentle humor   \n",
       "140829  norton ha to recite bland police procedural de...   \n",
       "52522   the good is very very good the rest run from m...   \n",
       "9703                                  a sweet little girl   \n",
       "61646                                         melancholia   \n",
       "\n",
       "                                               clean_text  \n",
       "63145               with flash of warmth and gentle humor  \n",
       "140829  norton ha to recite bland police procedural de...  \n",
       "52522   the good is very very good the rest run from m...  \n",
       "9703                                  a sweet little girl  \n",
       "61646                                         melancholia  "
      ]
     },
     "execution_count": 142,
     "metadata": {},
     "output_type": "execute_result"
    }
   ],
   "source": [
    "df['clean_text'] = clean_text(df['Phrase'].values)\n",
    "df.head()"
   ]
  },
  {
   "cell_type": "code",
   "execution_count": 116,
   "metadata": {},
   "outputs": [],
   "source": [
    "# Total Words\n",
    "aa = ' '.join(list(df['clean_text']))\n",
    "aa = list(set(aa.split(\" \")))\n",
    "len(aa)"
   ]
  },
  {
   "cell_type": "code",
   "execution_count": 111,
   "metadata": {},
   "outputs": [],
   "source": [
    "from sklearn.utils import shuffle"
   ]
  },
  {
   "cell_type": "code",
   "execution_count": 143,
   "metadata": {},
   "outputs": [
    {
     "data": {
      "text/html": [
       "<div>\n",
       "<style scoped>\n",
       "    .dataframe tbody tr th:only-of-type {\n",
       "        vertical-align: middle;\n",
       "    }\n",
       "\n",
       "    .dataframe tbody tr th {\n",
       "        vertical-align: top;\n",
       "    }\n",
       "\n",
       "    .dataframe thead th {\n",
       "        text-align: right;\n",
       "    }\n",
       "</style>\n",
       "<table border=\"1\" class=\"dataframe\">\n",
       "  <thead>\n",
       "    <tr style=\"text-align: right;\">\n",
       "      <th></th>\n",
       "      <th>PhraseId</th>\n",
       "      <th>SentenceId</th>\n",
       "      <th>Phrase</th>\n",
       "      <th>Sentiment</th>\n",
       "      <th>clean_review</th>\n",
       "      <th>clean_text</th>\n",
       "    </tr>\n",
       "  </thead>\n",
       "  <tbody>\n",
       "    <tr>\n",
       "      <th>131481</th>\n",
       "      <td>131482</td>\n",
       "      <td>7084</td>\n",
       "      <td>short in explaining the music and its roots</td>\n",
       "      <td>2</td>\n",
       "      <td>short in explaining the music and it root</td>\n",
       "      <td>short in explaining the music and it root</td>\n",
       "    </tr>\n",
       "    <tr>\n",
       "      <th>21386</th>\n",
       "      <td>21387</td>\n",
       "      <td>955</td>\n",
       "      <td>of college football games</td>\n",
       "      <td>2</td>\n",
       "      <td>of college football game</td>\n",
       "      <td>of college football game</td>\n",
       "    </tr>\n",
       "    <tr>\n",
       "      <th>17261</th>\n",
       "      <td>17262</td>\n",
       "      <td>749</td>\n",
       "      <td>issues</td>\n",
       "      <td>2</td>\n",
       "      <td>issue</td>\n",
       "      <td>issue</td>\n",
       "    </tr>\n",
       "    <tr>\n",
       "      <th>52002</th>\n",
       "      <td>52003</td>\n",
       "      <td>2564</td>\n",
       "      <td>jackass  the movie</td>\n",
       "      <td>2</td>\n",
       "      <td>jackass the movie</td>\n",
       "      <td>jackass the movie</td>\n",
       "    </tr>\n",
       "    <tr>\n",
       "      <th>99742</th>\n",
       "      <td>99743</td>\n",
       "      <td>5233</td>\n",
       "      <td>misogyny and unprovoked violence</td>\n",
       "      <td>1</td>\n",
       "      <td>misogyny and unprovoked violence</td>\n",
       "      <td>misogyny and unprovoked violence</td>\n",
       "    </tr>\n",
       "  </tbody>\n",
       "</table>\n",
       "</div>"
      ],
      "text/plain": [
       "        PhraseId  SentenceId                                       Phrase  \\\n",
       "131481    131482        7084  short in explaining the music and its roots   \n",
       "21386      21387         955                    of college football games   \n",
       "17261      17262         749                                       issues   \n",
       "52002      52003        2564                           jackass  the movie   \n",
       "99742      99743        5233             misogyny and unprovoked violence   \n",
       "\n",
       "        Sentiment                               clean_review  \\\n",
       "131481          2  short in explaining the music and it root   \n",
       "21386           2                   of college football game   \n",
       "17261           2                                      issue   \n",
       "52002           2                          jackass the movie   \n",
       "99742           1           misogyny and unprovoked violence   \n",
       "\n",
       "                                       clean_text  \n",
       "131481  short in explaining the music and it root  \n",
       "21386                    of college football game  \n",
       "17261                                       issue  \n",
       "52002                           jackass the movie  \n",
       "99742            misogyny and unprovoked violence  "
      ]
     },
     "execution_count": 143,
     "metadata": {},
     "output_type": "execute_result"
    }
   ],
   "source": [
    "df = shuffle(df)\n",
    "df.head()"
   ]
  },
  {
   "cell_type": "code",
   "execution_count": 118,
   "metadata": {},
   "outputs": [],
   "source": [
    "# Tokenizer\n",
    "vocabulary_size = len(aa)\n",
    "tokenizer = Tokenizer(num_words=vocabulary_size, split=' ')\n",
    "tokenizer.fit_on_texts(df['clean_text'].values)\n",
    "sequences = tokenizer.texts_to_sequences(df['clean_text'].values)\n",
    "data = pad_sequences(sequences)#, maxlen=45)"
   ]
  },
  {
   "cell_type": "code",
   "execution_count": 119,
   "metadata": {},
   "outputs": [],
   "source": [
    "from keras.utils.np_utils import to_categorical"
   ]
  },
  {
   "cell_type": "code",
   "execution_count": 120,
   "metadata": {},
   "outputs": [],
   "source": [
    "# Encoder\n",
    "encoder = LabelEncoder()\n",
    "encoder = encoder.fit_transform(df['Sentiment'])\n",
    "target = to_categorical(encoder)"
   ]
  },
  {
   "cell_type": "code",
   "execution_count": 121,
   "metadata": {},
   "outputs": [
    {
     "data": {
      "text/plain": [
       "((156060, 48), (156060, 5))"
      ]
     },
     "execution_count": 121,
     "metadata": {},
     "output_type": "execute_result"
    }
   ],
   "source": [
    "data.shape, target.shape"
   ]
  },
  {
   "cell_type": "code",
   "execution_count": 122,
   "metadata": {},
   "outputs": [],
   "source": [
    "from keras.backend import zeros"
   ]
  },
  {
   "cell_type": "code",
   "execution_count": 123,
   "metadata": {},
   "outputs": [],
   "source": [
    "embeddings_index = dict()\n",
    "f = open('../glove.6B/glove.6B.100d.txt', encoding='utf-8')\n",
    "for line in f:\n",
    "    values = line.split()\n",
    "    word = values[0]\n",
    "    coefs = np.asarray(values[1:], dtype='float32')\n",
    "    embeddings_index[word] = coefs\n",
    "f.close()"
   ]
  },
  {
   "cell_type": "code",
   "execution_count": 124,
   "metadata": {},
   "outputs": [],
   "source": [
    "embedding_matrix = np.zeros((vocabulary_size, 100))\n",
    "for word, index in tokenizer.word_index.items():\n",
    "    if index > vocabulary_size - 1:\n",
    "        break\n",
    "    else:\n",
    "        embedding_vector = embeddings_index.get(word)\n",
    "        if embedding_vector is not None:\n",
    "            embedding_matrix[index] = embedding_vector"
   ]
  },
  {
   "cell_type": "code",
   "execution_count": 107,
   "metadata": {},
   "outputs": [],
   "source": [
    "from keras.layers import GRU, Dropout"
   ]
  },
  {
   "cell_type": "code",
   "execution_count": 128,
   "metadata": {},
   "outputs": [
    {
     "name": "stdout",
     "output_type": "stream",
     "text": [
      "_________________________________________________________________\n",
      "Layer (type)                 Output Shape              Param #   \n",
      "=================================================================\n",
      "embedding_15 (Embedding)     (None, 48, 100)           1487600   \n",
      "_________________________________________________________________\n",
      "spatial_dropout1d_11 (Spatia (None, 48, 100)           0         \n",
      "_________________________________________________________________\n",
      "bidirectional_23 (Bidirectio (None, 48, 256)           234496    \n",
      "_________________________________________________________________\n",
      "bidirectional_24 (Bidirectio (None, 256)               394240    \n",
      "_________________________________________________________________\n",
      "dropout_6 (Dropout)          (None, 256)               0         \n",
      "_________________________________________________________________\n",
      "dense_14 (Dense)             (None, 5)                 1285      \n",
      "=================================================================\n",
      "Total params: 2,117,621\n",
      "Trainable params: 2,117,621\n",
      "Non-trainable params: 0\n",
      "_________________________________________________________________\n",
      "None\n"
     ]
    }
   ],
   "source": [
    "# Model\n",
    "embed_dim = 128\n",
    "lstm_out = 128\n",
    "\n",
    "model = Sequential()\n",
    "model.add(Embedding(vocabulary_size, 100, input_length = data.shape[1], weights = [embedding_matrix], trainable=True))\n",
    "model.add(SpatialDropout1D(0.2))\n",
    "model.add(Bidirectional(LSTM(128, return_sequences=True)))\n",
    "model.add(Bidirectional(LSTM(128)))\n",
    "model.add(Dropout(0.5))\n",
    "model.add(Dense(target.shape[1], activation='softmax'))\n",
    "model.compile(loss = 'categorical_crossentropy', optimizer='adam',metrics = ['accuracy'])\n",
    "print(model.summary())"
   ]
  },
  {
   "cell_type": "code",
   "execution_count": 129,
   "metadata": {},
   "outputs": [],
   "source": [
    "early_stopping_filter = EarlyStopping(monitor='val_loss', patience=5)"
   ]
  },
  {
   "cell_type": "code",
   "execution_count": 130,
   "metadata": {},
   "outputs": [
    {
     "name": "stdout",
     "output_type": "stream",
     "text": [
      "Train on 124848 samples, validate on 31212 samples\n",
      "Epoch 1/20\n",
      "124848/124848 [==============================] - 881s 7ms/step - loss: 1.0033 - acc: 0.5900 - val_loss: 0.8654 - val_acc: 0.6436\n",
      "Epoch 2/20\n",
      "124848/124848 [==============================] - 881s 7ms/step - loss: 0.8508 - acc: 0.6461 - val_loss: 0.8119 - val_acc: 0.6640\n",
      "Epoch 3/20\n",
      "124848/124848 [==============================] - 881s 7ms/step - loss: 0.7848 - acc: 0.6729 - val_loss: 0.7846 - val_acc: 0.6728\n",
      "Epoch 4/20\n",
      "124848/124848 [==============================] - 906s 7ms/step - loss: 0.7437 - acc: 0.6896 - val_loss: 0.7739 - val_acc: 0.6811\n",
      "Epoch 5/20\n",
      "124848/124848 [==============================] - 867s 7ms/step - loss: 0.7079 - acc: 0.7030 - val_loss: 0.7644 - val_acc: 0.6832\n",
      "Epoch 6/20\n",
      "124848/124848 [==============================] - 876s 7ms/step - loss: 0.6801 - acc: 0.7152 - val_loss: 0.7683 - val_acc: 0.6826\n",
      "Epoch 7/20\n",
      "124848/124848 [==============================] - 859s 7ms/step - loss: 0.6565 - acc: 0.7235 - val_loss: 0.7830 - val_acc: 0.6792\n",
      "Epoch 8/20\n",
      "124848/124848 [==============================] - 846s 7ms/step - loss: 0.6358 - acc: 0.7318 - val_loss: 0.7919 - val_acc: 0.6807\n",
      "Epoch 9/20\n",
      "124848/124848 [==============================] - 850s 7ms/step - loss: 0.6148 - acc: 0.7398 - val_loss: 0.7900 - val_acc: 0.6827\n",
      "Epoch 10/20\n",
      "124848/124848 [==============================] - 849s 7ms/step - loss: 0.5970 - acc: 0.7473 - val_loss: 0.8121 - val_acc: 0.6850\n"
     ]
    },
    {
     "data": {
      "text/plain": [
       "<keras.callbacks.History at 0x47bc742438>"
      ]
     },
     "execution_count": 130,
     "metadata": {},
     "output_type": "execute_result"
    }
   ],
   "source": [
    "model.fit(data, target, validation_split=0.2, epochs=20, callbacks=[early_stopping_filter], batch_size=256)"
   ]
  },
  {
   "cell_type": "markdown",
   "metadata": {},
   "source": [
    "# Testing"
   ]
  },
  {
   "cell_type": "code",
   "execution_count": 131,
   "metadata": {},
   "outputs": [
    {
     "data": {
      "text/html": [
       "<div>\n",
       "<style scoped>\n",
       "    .dataframe tbody tr th:only-of-type {\n",
       "        vertical-align: middle;\n",
       "    }\n",
       "\n",
       "    .dataframe tbody tr th {\n",
       "        vertical-align: top;\n",
       "    }\n",
       "\n",
       "    .dataframe thead th {\n",
       "        text-align: right;\n",
       "    }\n",
       "</style>\n",
       "<table border=\"1\" class=\"dataframe\">\n",
       "  <thead>\n",
       "    <tr style=\"text-align: right;\">\n",
       "      <th></th>\n",
       "      <th>PhraseId</th>\n",
       "      <th>SentenceId</th>\n",
       "      <th>Phrase</th>\n",
       "    </tr>\n",
       "  </thead>\n",
       "  <tbody>\n",
       "    <tr>\n",
       "      <th>0</th>\n",
       "      <td>156061</td>\n",
       "      <td>8545</td>\n",
       "      <td>An intermittently pleasing but mostly routine ...</td>\n",
       "    </tr>\n",
       "    <tr>\n",
       "      <th>1</th>\n",
       "      <td>156062</td>\n",
       "      <td>8545</td>\n",
       "      <td>An intermittently pleasing but mostly routine ...</td>\n",
       "    </tr>\n",
       "    <tr>\n",
       "      <th>2</th>\n",
       "      <td>156063</td>\n",
       "      <td>8545</td>\n",
       "      <td>An</td>\n",
       "    </tr>\n",
       "    <tr>\n",
       "      <th>3</th>\n",
       "      <td>156064</td>\n",
       "      <td>8545</td>\n",
       "      <td>intermittently pleasing but mostly routine effort</td>\n",
       "    </tr>\n",
       "    <tr>\n",
       "      <th>4</th>\n",
       "      <td>156065</td>\n",
       "      <td>8545</td>\n",
       "      <td>intermittently pleasing but mostly routine</td>\n",
       "    </tr>\n",
       "  </tbody>\n",
       "</table>\n",
       "</div>"
      ],
      "text/plain": [
       "   PhraseId  SentenceId                                             Phrase\n",
       "0    156061        8545  An intermittently pleasing but mostly routine ...\n",
       "1    156062        8545  An intermittently pleasing but mostly routine ...\n",
       "2    156063        8545                                                 An\n",
       "3    156064        8545  intermittently pleasing but mostly routine effort\n",
       "4    156065        8545         intermittently pleasing but mostly routine"
      ]
     },
     "execution_count": 131,
     "metadata": {},
     "output_type": "execute_result"
    }
   ],
   "source": [
    "testdf = pd.read_csv(\"../data/test.tsv\", sep=\"\t\")\n",
    "testdf.head()"
   ]
  },
  {
   "cell_type": "code",
   "execution_count": 133,
   "metadata": {},
   "outputs": [],
   "source": [
    "testdf['Phrase'] = testdf['Phrase'].apply(lambda x: x.lower())\n",
    "testdf['Phrase'] = testdf['Phrase'].apply((lambda x: re.sub('[^A-z\\s]','',x)))\n",
    "testdf['clean_test'] = clean_text(testdf.Phrase.values)"
   ]
  },
  {
   "cell_type": "code",
   "execution_count": 134,
   "metadata": {},
   "outputs": [],
   "source": [
    "test_sequences = tokenizer.texts_to_sequences(testdf['clean_test'].values)\n",
    "test_data = pad_sequences(test_sequences, maxlen=48)"
   ]
  },
  {
   "cell_type": "code",
   "execution_count": 136,
   "metadata": {},
   "outputs": [
    {
     "name": "stdout",
     "output_type": "stream",
     "text": [
      "66292/66292 [==============================] - 740s 11ms/step\n"
     ]
    }
   ],
   "source": [
    "y_pred = model.predict_classes(test_data, verbose=1)"
   ]
  },
  {
   "cell_type": "code",
   "execution_count": 139,
   "metadata": {},
   "outputs": [],
   "source": [
    "subdf = pd.DataFrame({'PhraseId': testdf['PhraseId'], 'Sentiment': y_pred})"
   ]
  },
  {
   "cell_type": "code",
   "execution_count": 140,
   "metadata": {},
   "outputs": [
    {
     "data": {
      "text/html": [
       "<div>\n",
       "<style scoped>\n",
       "    .dataframe tbody tr th:only-of-type {\n",
       "        vertical-align: middle;\n",
       "    }\n",
       "\n",
       "    .dataframe tbody tr th {\n",
       "        vertical-align: top;\n",
       "    }\n",
       "\n",
       "    .dataframe thead th {\n",
       "        text-align: right;\n",
       "    }\n",
       "</style>\n",
       "<table border=\"1\" class=\"dataframe\">\n",
       "  <thead>\n",
       "    <tr style=\"text-align: right;\">\n",
       "      <th></th>\n",
       "      <th>PhraseId</th>\n",
       "      <th>Sentiment</th>\n",
       "    </tr>\n",
       "  </thead>\n",
       "  <tbody>\n",
       "    <tr>\n",
       "      <th>0</th>\n",
       "      <td>156061</td>\n",
       "      <td>3</td>\n",
       "    </tr>\n",
       "    <tr>\n",
       "      <th>1</th>\n",
       "      <td>156062</td>\n",
       "      <td>3</td>\n",
       "    </tr>\n",
       "    <tr>\n",
       "      <th>2</th>\n",
       "      <td>156063</td>\n",
       "      <td>2</td>\n",
       "    </tr>\n",
       "    <tr>\n",
       "      <th>3</th>\n",
       "      <td>156064</td>\n",
       "      <td>3</td>\n",
       "    </tr>\n",
       "    <tr>\n",
       "      <th>4</th>\n",
       "      <td>156065</td>\n",
       "      <td>3</td>\n",
       "    </tr>\n",
       "  </tbody>\n",
       "</table>\n",
       "</div>"
      ],
      "text/plain": [
       "   PhraseId  Sentiment\n",
       "0    156061          3\n",
       "1    156062          3\n",
       "2    156063          2\n",
       "3    156064          3\n",
       "4    156065          3"
      ]
     },
     "execution_count": 140,
     "metadata": {},
     "output_type": "execute_result"
    }
   ],
   "source": [
    "subdf.head()"
   ]
  },
  {
   "cell_type": "code",
   "execution_count": 144,
   "metadata": {},
   "outputs": [],
   "source": [
    "subdf.to_csv(\"../data/sampleSubmission.csv\", index=False)"
   ]
  },
  {
   "cell_type": "code",
   "execution_count": null,
   "metadata": {},
   "outputs": [],
   "source": []
  }
 ],
 "metadata": {
  "kernelspec": {
   "display_name": "Python 3",
   "language": "python",
   "name": "python3"
  },
  "language_info": {
   "codemirror_mode": {
    "name": "ipython",
    "version": 3
   },
   "file_extension": ".py",
   "mimetype": "text/x-python",
   "name": "python",
   "nbconvert_exporter": "python",
   "pygments_lexer": "ipython3",
   "version": "3.6.5"
  }
 },
 "nbformat": 4,
 "nbformat_minor": 2
}
